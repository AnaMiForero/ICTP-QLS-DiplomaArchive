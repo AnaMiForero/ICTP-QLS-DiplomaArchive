{
  "nbformat": 4,
  "nbformat_minor": 2,
  "metadata": {
    "colab": {
      "name": "Exam_Stat Mech with Python.ipynb",
      "provenance": [],
      "collapsed_sections": []
    },
    "kernelspec": {
      "name": "python3",
      "display_name": "Python 3.8.5 64-bit ('base': conda)"
    },
    "language_info": {
      "name": "python",
      "version": "3.8.5",
      "mimetype": "text/x-python",
      "codemirror_mode": {
        "name": "ipython",
        "version": 3
      },
      "pygments_lexer": "ipython3",
      "nbconvert_exporter": "python",
      "file_extension": ".py"
    },
    "interpreter": {
      "hash": "3026b7355e3fbc4b4ae36ca993fedf75ac0626ca7260ff769a29c20ec5b5794b"
    }
  },
  "cells": [
    {
      "cell_type": "markdown",
      "source": [
        "# **1. Problem: The 1D Ising model**\n",
        "\n",
        "Consider a one-dimensional Ising model with $L$ spins. Each spin can take a value $\\sigma \\in \\{−1, +1\\}$ and interacts only with its two nearest neighbours. TheHamiltonian of this system, specified by a coupling energy constant $J$ and an external magnetic field $h$, reads:\n",
        "\n",
        "$$\\mathcal{H} (\\vec{\\sigma})= - \\sum_{x=1}^{L} \\sigma_x \\bigg [ \\frac{J}{2} (\\sigma_{x+1}+ \\sigma_{x-1}) + h\\bigg]$$\n",
        "\n",
        "in which we impose periodic boundary conditions, i.e. $L + x = x$."
      ],
      "metadata": {
        "id": "rig_d1bv1XuH"
      }
    },
    {
      "cell_type": "markdown",
      "source": [
        "# **2. Programming part**"
      ],
      "metadata": {
        "id": "N1fsl2Om-91t"
      }
    },
    {
      "cell_type": "code",
      "execution_count": 1,
      "source": [
        "import numpy as np\r\n",
        "import matplotlib.pyplot as plt\r\n",
        "import matplotlib as mpl\r\n",
        "from copy import copy\r\n",
        "\r\n",
        "mpl.style.use('seaborn')"
      ],
      "outputs": [],
      "metadata": {
        "id": "2cwQC4uhY4CH"
      }
    },
    {
      "cell_type": "code",
      "execution_count": 2,
      "source": [
        "def energy_of_config (spins_conf, J, h):\r\n",
        "  \"\"\"\r\n",
        "  This function computes the energy E of a given 1D configuration of L spins \"spins_conf\".\r\n",
        "  \"\"\"\r\n",
        "  # The boundary conditions are embedded in (x-1)%L when x=0 and (x+1)%L if x=L-1\r\n",
        "  L = len(spins_conf)\r\n",
        "  E = np.sum([-spins_conf[x]*(0.5*J*(spins_conf[(x+1)%L] + spins_conf[(x-1)%L]) + h) for x in range(L)])\r\n",
        "  return E\r\n",
        "\r\n",
        "def abs_magnetization(spins_conf):\r\n",
        "  \"\"\"\r\n",
        "  This function returns the absolute value of the magnetization of a given 1D configuration \r\n",
        "  of L spins \"spins_conf\" normalized.\r\n",
        "  \"\"\"\r\n",
        "  return abs(spins_conf.sum()) / len(spins_conf)"
      ],
      "outputs": [],
      "metadata": {
        "id": "RyKgOX0rZAgV"
      }
    },
    {
      "cell_type": "markdown",
      "source": [
        "***Problem in the boundary conditions:*** \n",
        "\n",
        "The problem arises for the case of $x = L-1$, `spins_conf[x+1] = spins_conf[L]` which exceeds the length of the list/array if the modulus `%` operation is not imposed. So instead, `spins_conf[(x+1)%L] = spins_conf[L%L] = spins_conf[0]`."
      ],
      "metadata": {
        "id": "tV8OPeUElm28"
      }
    },
    {
      "cell_type": "code",
      "execution_count": 3,
      "source": [
        "#checking the functions\r\n",
        "J = 3\r\n",
        "h = 0\r\n",
        "L = 1000\r\n",
        "align_spins_conf = np.array([-1]*L) #configuration of aligned spins\r\n",
        "print( 'Energy: {}'.format(energy_of_config (align_spins_conf,  J, h)), 'Magnetization: {}'.format(abs_magnetization(align_spins_conf)))"
      ],
      "outputs": [
        {
          "output_type": "stream",
          "name": "stdout",
          "text": [
            "Energy: -3000.0 Magnetization: 1.0\n"
          ]
        }
      ],
      "metadata": {
        "colab": {
          "base_uri": "https://localhost:8080/"
        },
        "id": "eViFk4ViryCb",
        "outputId": "0484ac37-33e7-4d8c-dcc4-4d9c5734185e"
      }
    },
    {
      "cell_type": "code",
      "execution_count": 6,
      "source": [
        "n = 1000 #number of samples/configurations\r\n",
        "L_new = 2000 #length of the sample/configuration\r\n",
        "conf_ensemble = np.random.randint(0,2,(n, L_new))*2-1 #array of random samples\r\n",
        "\r\n",
        "\r\n",
        "#computation of the energy of each sample\r\n",
        "energy_ensemble = np.apply_along_axis(energy_of_config, 1, conf_ensemble, J, h)\r\n",
        "\r\n",
        "#plot\r\n",
        "plt.xlabel('Energy', fontsize=14)\r\n",
        "plt.ylabel('pdf', fontsize=14)\r\n",
        "plt.xlim([min(energy_ensemble), max(energy_ensemble)])\r\n",
        "width = 30\r\n",
        "bins = int((max(energy_ensemble) - min(energy_ensemble))/ width)\r\n",
        "plt.hist(energy_ensemble, bins= bins, density=True, color='#661D98', alpha = 0.8);"
      ],
      "outputs": [
        {
          "output_type": "display_data",
          "data": {
            "image/png": "[encoded data removed]",
            "text/plain": [
              "<Figure size 576x396 with 1 Axes>"
            ]
          },
          "metadata": {}
        }
      ],
      "metadata": {
        "colab": {
          "base_uri": "https://localhost:8080/",
          "height": 283
        },
        "id": "_H0pfv-y5s3p",
        "outputId": "bd6c4aaf-6754-413c-8fe6-878dc3d26996"
      }
    },
    {
      "cell_type": "markdown",
      "source": [
        "## **2.1. Metropolis Markov chain**"
      ],
      "metadata": {
        "id": "DLD8dBc5_Wo8"
      }
    },
    {
      "cell_type": "markdown",
      "source": [
        " \n",
        "***Metropolis Step***\n",
        "\n",
        "The states (spins configurations) after each jump of the MC such that the detail balance is satsfied are going to be the samples from the distribution (in this case, Boltzmann distribution).\n",
        "\n",
        "The algorith begins with one given configuration of spins $\\vec{\\sigma}$ and find a new one $\\vec{\\sigma}'$ in which one spin is chosen at random and flipped, i.e, $\\sigma'_{\\bar{x}} = -\\sigma_{\\bar{x}}$, where $\\bar{x}$ is the coordinate of the flipped spin.\n",
        "\n",
        "So, in order to accept or reject the new configuration, an expression for the energy difference between the two configurations\n",
        "must be derived."
      ],
      "metadata": {
        "id": "RQNoRTxK_8xy"
      }
    },
    {
      "cell_type": "markdown",
      "source": [
        "The energy difference between the two states is:\n",
        "\\begin{align}\n",
        "\\Delta E &= \\mathcal{H}\\left( \\vec{\\sigma}' \\right) - \\mathcal{H}\\left( \\vec{\\sigma} \\right)\\\\\n",
        "&= - \\sum_{x=1}^{L} \\sigma'_x \\bigg [ \\frac{J}{2} (\\sigma'_{x+1}+ \\sigma'_{x-1}) + h\\bigg] + \\sum_{x=1}^{L} \\sigma_x \\bigg [ \\frac{J}{2} (\\sigma_{x+1}+ \\sigma_{x-1}) + h\\bigg]\\\\\n",
        "\\end{align}\n",
        "\n",
        "The only terms of the summation that are going to survive are the $x$'s of the flipped spin and its neighbors.\n",
        "$$\\small \\Delta E = - \\sigma'_{\\bar{x}-1} \\bigg[\\frac{J}{2} (\\sigma'_{\\bar{x}}+ \\sigma'_{\\bar{x}-2}) +h\\bigg] - \\sigma'_{\\bar{x}} \\bigg[\\frac{J}{2} (\\sigma'_{\\bar{x}+1}+ \\sigma'_{\\bar{x}-1}) +h\\bigg] - \\sigma'_{\\bar{x}+1} \\bigg[\\frac{J}{2} (\\sigma'_{\\bar{x}+2}+ \\sigma'_{\\bar{x}}) +h\\bigg] + \\sigma_{\\bar{x}-1} \\bigg[\\frac{J}{2} (\\sigma_{\\bar{x}}+ \\sigma_{\\bar{x}-2}) +h\\bigg] + \\sigma_{\\bar{x}} \\bigg[\\frac{J}{2} (\\sigma_{\\bar{x}+1} + \\sigma_{\\bar{x}-1}) +h\\bigg] + \\sigma_{\\bar{x}+1} \\bigg[\\frac{J}{2} (\\sigma_{\\bar{x}+2}+ \\sigma_{\\bar{x}}) +h\\bigg]$$\n",
        "\n",
        "So, doing $\\sigma'_{\\bar{x}\\pm i} = \\sigma_{\\bar{x} \\pm i}$ for $i \\neq 0$ and $\\sigma'_{\\bar{x}} = - \\sigma_{\\bar{x}}$, the energy difference becomes:\n",
        "\n",
        "\\begin{align}\n",
        "\\Delta E &= 2 \\sigma_{\\bar{x}} \\bigg[ J (\\sigma_{\\bar{x}-1}+ \\sigma_{\\bar{x}+1}) + h \\bigg] \\\\\n",
        "\\Delta E &= 2 \\sigma_{\\bar{x}} \\left( J \\sum_{x \\in B(\\bar{x})} \\sigma_{x} + h\\right)\n",
        "\\end{align}\n",
        "\n",
        "where $B(\\bar{x})$ are the neighbors of $\\bar{x}$."
      ],
      "metadata": {
        "id": "1aG_F96IOG2-"
      }
    },
    {
      "cell_type": "code",
      "execution_count": 7,
      "source": [
        "#Testing the energy difference formula between the initial configuration sigma_1 = [-1,1,1]  and the final sigma_2 = [1,1,1]\r\n",
        "sigma_1 = np.array([-1,1,1])\r\n",
        "J_0 = 1\r\n",
        "h_0 = 0.1\r\n",
        "energy_diff = 2* sigma_1[0]*(J_0*(sigma_1[2]+sigma_1[1]) + h_0)\r\n",
        "print(energy_diff)"
      ],
      "outputs": [
        {
          "output_type": "stream",
          "name": "stdout",
          "text": [
            "-4.2\n"
          ]
        }
      ],
      "metadata": {
        "colab": {
          "base_uri": "https://localhost:8080/"
        },
        "id": "cYA9GxMhJRrh",
        "outputId": "0b7d54b8-4462-4a65-ff60-839bac4573c1"
      }
    },
    {
      "cell_type": "code",
      "execution_count": 8,
      "source": [
        "def metropolis_step(sample, J, h, beta):\r\n",
        "  \"\"\"\r\n",
        "  This function performs a single metropolis step by flipping one spin of the 1D\r\n",
        "  Ising model configuration, computing the energy difference between the old \r\n",
        "  and new state, and accepting or rejecting the new configuration.\r\n",
        "  \"\"\"\r\n",
        "  L = len(sample)\r\n",
        "\r\n",
        "  # Choosing the spin to flip\r\n",
        "  x = np.random.randint(0, L) \r\n",
        "\r\n",
        "  # Computing the energy difference\r\n",
        "  aux_dE = sample[(x-1)%L] + sample[(x+1)%L]\r\n",
        "  delta_E = 2 * sample[x] * ( J*aux_dE + h )\r\n",
        "\r\n",
        "  # Accepting or rejecting the flipped spin according to the Metropolis rule.\r\n",
        "  # That is: accepting if deltaE<=0. If deltaE>0 compute the probability\r\n",
        "  # p = e^{- beta*deltaE}, generate a random number r in [0,1] and accept the \r\n",
        "  # configuration if r < p; otherwise, retain the previous configuration.\r\n",
        "  if delta_E <= 0 or np.random.rand() < np.exp(-beta * delta_E):\r\n",
        "    sample[x] *= -1\r\n",
        "\r\n",
        "  return sample"
      ],
      "outputs": [],
      "metadata": {
        "id": "YqMHPh8w_coP"
      }
    },
    {
      "cell_type": "code",
      "execution_count": 9,
      "source": [
        "#Testing if the last configuration after enough iterations has all spins aligned to 1.\r\n",
        "\r\n",
        "interations = 3000\r\n",
        "l = 200 #length of the sample/configuration\r\n",
        "rnd_sample= np.random.randint(0,2,l)*2-1 #random sample\r\n",
        "for t in range(interations):\r\n",
        "  sample= metropolis_step(rnd_sample, J=1, h=0.1, beta=10)\r\n",
        "\r\n",
        "magnetization = abs_magnetization(sample)\r\n",
        "print('absolute normalized magnetization: {}'.format(magnetization))\r\n",
        "print('final configuration: \\n {}'.format(sample))"
      ],
      "outputs": [
        {
          "output_type": "stream",
          "name": "stdout",
          "text": [
            "absolute normalized magnetization: 1.0\n",
            "final configuration: \n",
            " [1 1 1 1 1 1 1 1 1 1 1 1 1 1 1 1 1 1 1 1 1 1 1 1 1 1 1 1 1 1 1 1 1 1 1 1 1\n",
            " 1 1 1 1 1 1 1 1 1 1 1 1 1 1 1 1 1 1 1 1 1 1 1 1 1 1 1 1 1 1 1 1 1 1 1 1 1\n",
            " 1 1 1 1 1 1 1 1 1 1 1 1 1 1 1 1 1 1 1 1 1 1 1 1 1 1 1 1 1 1 1 1 1 1 1 1 1\n",
            " 1 1 1 1 1 1 1 1 1 1 1 1 1 1 1 1 1 1 1 1 1 1 1 1 1 1 1 1 1 1 1 1 1 1 1 1 1\n",
            " 1 1 1 1 1 1 1 1 1 1 1 1 1 1 1 1 1 1 1 1 1 1 1 1 1 1 1 1 1 1 1 1 1 1 1 1 1\n",
            " 1 1 1 1 1 1 1 1 1 1 1 1 1 1 1]\n"
          ]
        }
      ],
      "metadata": {
        "colab": {
          "base_uri": "https://localhost:8080/"
        },
        "id": "UgDLOczp2e5I",
        "outputId": "f1970d16-a057-4c2e-9200-f3f79e07b028"
      }
    },
    {
      "cell_type": "markdown",
      "source": [
        "## **2.2 Generating samples and computing the magnetization**\n"
      ],
      "metadata": {
        "id": "GmcLvVc3_guT"
      }
    },
    {
      "cell_type": "code",
      "execution_count": 10,
      "source": [
        "def metropolis_ising(L, beta, J, h, n_samples, t_equilibration, t_correlation):\r\n",
        "  \"\"\"\r\n",
        "  This function does a MCMC simulation of a 1D Ising model of \"L\" particles, \r\n",
        "  having paramenter \"beta\", a given coupling constant \"J\" and external field\r\n",
        "  \"h\".\r\n",
        "  \"\"\"\r\n",
        "  s = [] #list to store the reliable samples\r\n",
        "  generated_samples = 0\r\n",
        "  state = np.random.randint(0,2,L)*2-1 # First state/configuration generated at random\r\n",
        "\r\n",
        "  # Equilibration of the chain \r\n",
        "  for i in range(t_equilibration):\r\n",
        "    state = metropolis_step(state, J, h, beta)\r\n",
        "\r\n",
        "  generated_samples += 1\r\n",
        "\r\n",
        "  while generated_samples <= n_samples:\r\n",
        "\r\n",
        "    # Discarding correlated samples\r\n",
        "    for i in range(t_correlation):\r\n",
        "      state = metropolis_step(state, J, h, beta)\r\n",
        "\r\n",
        "    #saving the state after removing correlation\r\n",
        "    s.append(copy(state))\r\n",
        "    generated_samples += 1\r\n",
        "\r\n",
        "  return np.array(s)"
      ],
      "outputs": [],
      "metadata": {
        "id": "XJoLetUcTJpF"
      }
    },
    {
      "cell_type": "code",
      "execution_count": 11,
      "source": [
        "def average_absolute_mag(L, beta, J, h, n_samples, t_equilibration, t_correlation):\r\n",
        "  \"\"\"\r\n",
        "  This function computes the average of the absolute magnetization of each sample in\r\n",
        "  an array of n number of samples \"n_samples\" taken from MCMC simulation.\r\n",
        "  \"\"\"\r\n",
        "  #computing the samples\r\n",
        "  samples = metropolis_ising(L, beta, J, h, n_samples, t_equilibration, t_correlation)\r\n",
        "  #computing the absolute magnetization of each sample\r\n",
        "  abs_mag = np.array([abs_magnetization(samples[i]) for i in range(len(samples))])\r\n",
        "\r\n",
        "  #returning the average\r\n",
        "  return abs_mag.mean()"
      ],
      "outputs": [],
      "metadata": {
        "id": "6-PQLaFs_wOn"
      }
    },
    {
      "cell_type": "code",
      "execution_count": 12,
      "source": [
        "average_absolute_mag(200, 3, 1, 0.1, 500, 30000, 5000)"
      ],
      "outputs": [
        {
          "output_type": "execute_result",
          "data": {
            "text/plain": [
              "1.0"
            ]
          },
          "metadata": {},
          "execution_count": 12
        }
      ],
      "metadata": {
        "colab": {
          "base_uri": "https://localhost:8080/"
        },
        "id": "CZW8fjY6SL_O",
        "outputId": "8c00cf4b-873f-4ee8-96dd-5e06095c5a0a"
      }
    },
    {
      "cell_type": "code",
      "execution_count": 13,
      "source": [
        "average_absolute_mag(200, 0.1, 1, 0.1, 500, 30000, 5000)"
      ],
      "outputs": [
        {
          "output_type": "execute_result",
          "data": {
            "text/plain": [
              "0.06392"
            ]
          },
          "metadata": {},
          "execution_count": 13
        }
      ],
      "metadata": {
        "colab": {
          "base_uri": "https://localhost:8080/"
        },
        "id": "BtCbMxnqaIM9",
        "outputId": "b3a98a00-8549-42ca-e70c-e91dc19d67dd"
      }
    },
    {
      "cell_type": "code",
      "execution_count": 14,
      "source": [
        "#Average absolute magnetization vs. Temperature\r\n",
        "\r\n",
        "N_samples = 500 \r\n",
        "Temperatures = np.linspace(0.1, 3, 20, endpoint=True)\r\n",
        "\r\n",
        "Mag = np.array([average_absolute_mag(200, 1/T, 1, 0.1, N_samples, 30000, 5000) for T in Temperatures])"
      ],
      "outputs": [],
      "metadata": {
        "id": "31Vr0hGaewcv"
      }
    },
    {
      "cell_type": "code",
      "execution_count": 15,
      "source": [
        "plt.xlabel(r'Temperature $T$', fontsize=14)\r\n",
        "plt.ylabel(r'Average absolute magnetization $\\langle |M| \\rangle$', fontsize=14)\r\n",
        "plt.plot(Temperatures, Mag, 'ro', lw = 3, color = '#1f77b4');"
      ],
      "outputs": [
        {
          "output_type": "display_data",
          "data": {
            "image/png": "[encoded data removed]",
            "text/plain": [
              "<Figure size 576x396 with 1 Axes>"
            ]
          },
          "metadata": {}
        }
      ],
      "metadata": {
        "colab": {
          "base_uri": "https://localhost:8080/",
          "height": 296
        },
        "id": "ky8NoTstqtZV",
        "outputId": "9b76237b-3fd0-4693-bbd4-f054ef0d55d3"
      }
    },
    {
      "cell_type": "markdown",
      "source": [
        "# **3. Theoretical questions**"
      ],
      "metadata": {
        "id": "7AQUcylGzvV0"
      }
    },
    {
      "cell_type": "markdown",
      "source": [
        "## ***Partition function***\n",
        "In order to compute the probability of any event for the 1D Ising model with $L=3$, let's first calculate the partition function\n",
        "\n",
        "\\begin{equation}\n",
        "\\mathcal{Z} = \\sum_{\\vec{\\sigma}} e^{- \\beta \\mathcal{H}(\\vec{\\sigma})},\n",
        "\\end{equation}\n",
        "\n",
        "where the summation is over all the microstates or possible configurations $\\vec{\\sigma}=\\{\\sigma_1, \\sigma_2, \\sigma_3\\}$. So all the possible microstates of a $L=3$ spin's system and it's corresponding energy are in the following table:\n",
        "\n",
        " $\\vec{\\sigma}$| $\\mathcal{H}(\\vec{\\sigma})$\n",
        "           --- | ---\n",
        "    {1,1,1}    | $-3(J+h)$\n",
        "    {1,1,-1}   |   $$J-h$$\n",
        "    {-1,1,-1}  | $$J+h$$\n",
        "    {-1,1,1}   | $$J-h$$\n",
        "    {-1,-1,-1} | $-3(J-h)$\n",
        "    {-1,-1,1}  | $$J+h$$\n",
        "    {1,-1,-1}  | $$J+h$$\n",
        "    {1,-1,1}   | $$J-h$$\n",
        "\n",
        "As it can be seen, there are simmilar values of the energy for various configurations, so the partition function becomes:\n",
        "\n",
        "\\begin{align}\n",
        "\\mathcal{Z} &= 3 e^{- \\beta (J+h)} + 3 e^{- \\beta (J-h)} + e^{3 \\beta (J+h)} + e^{3 \\beta (J-h)}\\\\\n",
        " & = 3 e^{- \\beta J} [e^{\\beta h} + e^{-\\beta h}] +  e^{3 \\beta J} [e^{3\\beta h} + e^{-3\\beta h}] \\\\\n",
        " & = 6 e^{- \\beta J} \\cosh({\\beta h}) +  2 e^{3 \\beta J} \\cosh({3\\beta h}).\n",
        "\\end{align}\n",
        "\n"
      ],
      "metadata": {
        "id": "5TiFHi7eErxs"
      }
    },
    {
      "cell_type": "markdown",
      "source": [
        "## ***Probabilities***\n",
        "The probability of the event $\\vec{\\sigma}_2 = 1$, is calculated considering the first four configurations in the table. So:\n",
        "\n",
        "$$P_2(1)= \\frac{e^{ 3 \\beta (J+h)} + 2e^{ -\\beta (J-h)} + e^{ - \\beta (J+h)} }{\\mathcal{Z}}$$\n",
        "\n",
        "And since the event $\\vec{\\sigma}_2 = -1$ is the complementary of the previous, the probability of the second spin be $-1$ is:\n",
        "\n",
        "$$P_2(-1) = 1 - P_2(1),$$\n",
        "\n",
        "that can be calculated also considering the last four configurations in the table:\n",
        "\n",
        "$$P_2(1)= \\frac{e^{ 3 \\beta (J+h)} + 2e^{ -\\beta (J+h)} + e^{ - \\beta (J-h)} }{\\mathcal{Z}}$$\n",
        "\n",
        "\n",
        "On the other hand, to calculate the probability $P_M (3)$ that the system’s total magnetization $M =3$, is equivalent to calculate the probability of the configuration $\\vec{\\sigma} = \\{1,1,1\\}$, that is:\n",
        "\n",
        "$$P_M(3)= \\frac{e^{ 3 \\beta (J+h)} }{\\mathcal{Z}}$$"
      ],
      "metadata": {
        "id": "avgia6YmNRXn"
      }
    },
    {
      "cell_type": "markdown",
      "source": [
        "Using the values of $J=1$, $h=0.2$, $\\beta=0.5$, the partition function and the probabilities are:\n",
        "\n",
        "\\begin{align}\n",
        "&\\mathcal{Z} = 6e^{-0.5} \\cosh(0.1)+ 2e^{1.5} \\cosh(0.3) \\approx 13.03 \\\\\n",
        "& P_2(1) = \\frac{e^{ 1.8} + 2e^{ -0.4} + e^{ - 0.6} }{13.03} \\approx 0.61 \\\\\n",
        "& P_2(-1) = 1 - 0.61 \\approx 0.39\\\\\n",
        "& P_M(3)= \\frac{e^{ 1.8} }{13.03} \\approx 0.46\n",
        "\\end{align}\n",
        "\n",
        "\n",
        "> In summary, the probabilities are:\n",
        "> $$P_2(1) = 0.61 \\\\ P_2(-1)=  0.39 \\\\ P_M(3)= 0.46$$\n",
        "\n",
        "\n"
      ],
      "metadata": {
        "id": "0ksXmvWUFqCd"
      }
    },
    {
      "cell_type": "markdown",
      "source": [
        "## ***Checking the results with the MCMC simulation***"
      ],
      "metadata": {
        "id": "LlvhbwVBpvGr"
      }
    },
    {
      "cell_type": "markdown",
      "source": [
        "Calculating first the equilibration time and the correlation time for a 1D Ising model with $L=3$.\n"
      ],
      "metadata": {
        "id": "cd_mLIyp9eY1"
      }
    },
    {
      "cell_type": "markdown",
      "source": [
        "To compute the burn-in time (equilibration time), i.e., the time at which we can discard samples that are in the transiet time for  equilibration of the chain. Let's plot the absolute magnetization over \"n_realizations\", for different times at a fixed chain length ($L=3$). And look for a time where the magnetization reaches a stationary value.\n"
      ],
      "metadata": {
        "id": "drZwtsozm_Uq"
      }
    },
    {
      "cell_type": "code",
      "execution_count": 16,
      "source": [
        "def magnet_average_trajectory(L, beta, J, h, max_time, n_realizations):\r\n",
        "  \"\"\"\r\n",
        "  This function computes the trajectory from 0 to \"max_time\" steps of the average absolute \r\n",
        "  magnetization over \"n_realizations\" for the 1D Ising model having parameters\r\n",
        "  \"L\", \"beta\", \"J\" and \"h\".\r\n",
        "  \"\"\"\r\n",
        "  average_traj = np.zeros(max_time) #array to store the trajectory of the\r\n",
        "  # average absolute magnetization over the possible n realizations\r\n",
        "  \r\n",
        "  for _ in range(n_realizations):\r\n",
        "    traj = np.array([])\r\n",
        "    state = np.random.randint(0,2, L)*2-1 #initial random state\r\n",
        "\r\n",
        "    #computing the trajectory of one realization\r\n",
        "    for t in range(max_time):\r\n",
        "      state = metropolis_step(state, J, h, beta)\r\n",
        "      traj = np.append(traj, abs_magnetization(state))  \r\n",
        "\r\n",
        "    # the last term of the realization's loop is going to be trajectory in max_time\r\n",
        "    #of the average absolute magnetization over n realizations\r\n",
        "    average_traj += traj / n_realizations\r\n",
        "  return average_traj"
      ],
      "outputs": [],
      "metadata": {
        "id": "aNOC5PdYhFdn"
      }
    },
    {
      "cell_type": "markdown",
      "source": [
        "To choose the right burn-in time that works for any temperature, let's plot the trajectory for three values of the inverse temperature $\\beta$:"
      ],
      "metadata": {
        "id": "ztvr0KRV1Ul7"
      }
    },
    {
      "cell_type": "code",
      "execution_count": 17,
      "source": [
        "L = 3\r\n",
        "J = 1\r\n",
        "h = 0.2\r\n",
        "beta = [0.1, 0.5, 1]\r\n",
        "max_time = 100\r\n",
        "trajs = []\r\n",
        "\r\n",
        "#computing the trajectories for each beta\r\n",
        "for B in beta:\r\n",
        "  trajs.append(magnet_average_trajectory(L, B, J, h, max_time, 200))"
      ],
      "outputs": [],
      "metadata": {
        "id": "O1PyLOIpjKgY"
      }
    },
    {
      "cell_type": "code",
      "execution_count": 40,
      "source": [
        "#plot\r\n",
        "plt.xlabel('Time steps', fontsize=14)\r\n",
        "plt.ylabel(r'Average absolute magnetization $\\langle |M| \\rangle$', fontsize=14)\r\n",
        "for i in range(len(beta)):\r\n",
        "  plt.plot(trajs[i], label=r\"$\\beta$={}\".format(beta[i]))\r\n",
        "plt.legend(bbox_to_anchor=(0.8, 0.55), fontsize = 'x-large')"
      ],
      "outputs": [
        {
          "output_type": "execute_result",
          "data": {
            "text/plain": [
              "<matplotlib.legend.Legend at 0x1bf98472760>"
            ]
          },
          "metadata": {},
          "execution_count": 40
        },
        {
          "output_type": "display_data",
          "data": {
            "image/png": "[encoded data removed]",
            "text/plain": [
              "<Figure size 576x396 with 1 Axes>"
            ]
          },
          "metadata": {}
        }
      ],
      "metadata": {
        "colab": {
          "base_uri": "https://localhost:8080/",
          "height": 310
        },
        "id": "AkjakCR_jMlo",
        "outputId": "10df1330-1dd7-4381-ea5b-bfbe84ff77a6"
      }
    },
    {
      "cell_type": "markdown",
      "source": [
        "Let's take $t_{burn\\_in\\_time} = t_{equilibration} =40$ and find the time at which we can say that the samples drawn from the distribution lose correlation."
      ],
      "metadata": {
        "id": "mjDUPeDaBQuD"
      }
    },
    {
      "cell_type": "markdown",
      "source": [
        "The temporal autocorrelation function:\n",
        "\n",
        "$$\n",
        "\\rho(t_1, t_2) = \\frac{\\langle M_{t_1} M_{t_2} \\rangle - \\langle M_{t_1}\\rangle \\langle M_{t_2} \\rangle  }{\\text{std}(M_{t_1})\\text{std}(M_{t_2})}\n",
        "$$\n"
      ],
      "metadata": {
        "id": "vBWgB3UNKvF5"
      }
    },
    {
      "cell_type": "code",
      "execution_count": 23,
      "source": [
        "def magnet_autocorrelation(L, beta, J, h, burn_in_time, max_corr_time, n_realizations):\r\n",
        "  \"\"\"\r\n",
        "  This function computes the temporal autocorrelation of the average magnetization \r\n",
        "  over \"n_realizations\" from \"burn_in_time\" for \"max_corr_time\" for the 1D Ising model \r\n",
        "  having side \"L\", \"beta\", \"J\" and \"h\".\r\n",
        "  \"\"\"\r\n",
        "  # Init the magnetization product Mt1*Mt2, the first and the second moments\r\n",
        "  prod = np.zeros(max_corr_time)\r\n",
        "  average_at_start = 0\r\n",
        "  average_at_next = np.zeros(max_corr_time)\r\n",
        "  sec_moment_at_start = 0\r\n",
        "  sec_moment_at_next = np.zeros(max_corr_time)\r\n",
        "  \r\n",
        "  for _ in range(n_realizations):\r\n",
        "\r\n",
        "    # Equilibration.\r\n",
        "    state = np.random.randint(0,2, L)*2-1\r\n",
        "    for _ in range(burn_in_time):\r\n",
        "      state = metropolis_step(state, J, h, beta)\r\n",
        "\r\n",
        "    # computing the initial value of the magetization and its second moment after the burn-in period.\r\n",
        "    start_magnet = abs_magnetization(state)\r\n",
        "    average_at_start += start_magnet / n_realizations\r\n",
        "    sec_moment_at_start += start_magnet * start_magnet / n_realizations\r\n",
        "\r\n",
        "    # Storing the value of all the magnetizations after the burn-in period.\r\n",
        "    traj = np.array([])\r\n",
        "    for _ in range(burn_in_time, burn_in_time + max_corr_time):\r\n",
        "      state = metropolis_step(state, J, h, beta)\r\n",
        "      traj = np.append(traj, abs_magnetization(state))\r\n",
        "\r\n",
        "    # Computing the statistical variables \r\n",
        "    prod += start_magnet * traj / n_realizations\r\n",
        "    average_at_next += traj / n_realizations\r\n",
        "    sec_moment_at_next += traj*traj / n_realizations\r\n",
        "\r\n",
        "  std_start = np.sqrt(abs(sec_moment_at_start - average_at_start**2))\r\n",
        "  std_next = np.sqrt(abs(sec_moment_at_next - average_at_next**2))\r\n",
        "  return (prod - average_at_next*average_at_start) / std_start / std_next"
      ],
      "outputs": [],
      "metadata": {
        "id": "4x0p6j2crvKe"
      }
    },
    {
      "cell_type": "code",
      "execution_count": 42,
      "source": [
        "L = 3\r\n",
        "J = 1\r\n",
        "h = 0.2\r\n",
        "beta = [0.1, 0.5, 1]\r\n",
        "burn_in_time = 40\r\n",
        "max_time = 200\r\n",
        "n_realizations = 3000 #200\r\n",
        "#computing the trajectories for each beta\r\n",
        "autocorr_trajs = []\r\n",
        "for B in beta:\r\n",
        "  autocorr_trajs.append(magnet_autocorrelation(L, B, J, h, burn_in_time, max_time, n_realizations))"
      ],
      "outputs": [],
      "metadata": {
        "id": "wNwhLXgYrw5K"
      }
    },
    {
      "cell_type": "code",
      "execution_count": 43,
      "source": [
        "#Plot\r\n",
        "plt.xlabel('Time steps after burn_in_time', fontsize=14)\r\n",
        "plt.ylabel('Temporal autocorrelation', fontsize=14)\r\n",
        "for i in range(len(beta)):\r\n",
        "  plt.plot(autocorr_trajs[i], label=r\"$\\beta$={}\".format(beta[i]))\r\n",
        "plt.legend(fontsize = 'xx-large')"
      ],
      "outputs": [
        {
          "output_type": "execute_result",
          "data": {
            "text/plain": [
              "<matplotlib.legend.Legend at 0x1bf98509190>"
            ]
          },
          "metadata": {},
          "execution_count": 43
        },
        {
          "output_type": "display_data",
          "data": {
            "image/png": "[encoded data removed]",
            "text/plain": [
              "<Figure size 576x396 with 1 Axes>"
            ]
          },
          "metadata": {}
        }
      ],
      "metadata": {
        "colab": {
          "base_uri": "https://localhost:8080/",
          "height": 302
        },
        "id": "KHY4ezwAskTO",
        "outputId": "5114db41-2e5c-4e60-d2e3-2cc7d9a1ceab"
      }
    },
    {
      "cell_type": "markdown",
      "source": [
        "Let's take the value of $t_{correlation} = 30$."
      ],
      "metadata": {
        "id": "3k2zK7wzLEZP"
      }
    },
    {
      "cell_type": "code",
      "execution_count": 41,
      "source": [
        "#computing N=7000 samples for the 1D Ising model with L=3, J=1, h=0.2 and T=2\r\n",
        "# with t_equilibration = 40, t_correlation = 30\r\n",
        "samples = metropolis_ising(3, 0.5, 1, 0.2, 7000, 40, 30)"
      ],
      "outputs": [],
      "metadata": {
        "id": "Rd1ZIqzOdovW"
      }
    },
    {
      "cell_type": "markdown",
      "source": [
        "Computing the probabilities:"
      ],
      "metadata": {
        "id": "l139HmhOMJiD"
      }
    },
    {
      "cell_type": "code",
      "execution_count": null,
      "source": [
        "#selecting the samples that match the condition of the second spin equal to 1.\r\n",
        "mask = samples[:, 1] == 1\r\n",
        "\r\n",
        "#computing the probability of the event.\r\n",
        "P2_1 = len(samples[mask, :])/len(samples)\r\n",
        "print(\"Probability P2(1): {:.3f}\".format(P2_1))\r\n",
        "print(\"Theoric probability P2(1): 0.61\")\r\n",
        "#Error\r\n",
        "E_a = abs(P2_1 - 0.61)\r\n",
        "print(\"Absolute error of P2(1): {:.4f}\".format(E_a))\r\n",
        "print(\"Percentage error of P2(1): {:.4f}\".format(E_a*100/0.61))\r\n",
        "\r\n",
        "print(\"\\n\")\r\n",
        "#probability for the second spin equal to -1.\r\n",
        "print(\"Probability P2(-1): {:.3f}\".format(1-P2_1))\r\n",
        "print(\"Theoretical probability P2(1): 0.39\")"
      ],
      "outputs": [
        {
          "output_type": "stream",
          "name": "stdout",
          "text": [
            "Probability P2(1): 0.616\n",
            "Theoric probability P2(1): 0.61\n",
            "Absolute error of P2(1): 0.0056\n",
            "Percentage error of P2(1): 0.9133\n",
            "\n",
            "\n",
            "Probability P2(-1): 0.384\n",
            "Theoretical probability P2(1): 0.39\n"
          ]
        }
      ],
      "metadata": {
        "colab": {
          "base_uri": "https://localhost:8080/"
        },
        "id": "zqeEV0HjeZyo",
        "outputId": "3e1e1b92-56c6-45aa-edaf-59dd3d763baf"
      }
    },
    {
      "cell_type": "code",
      "execution_count": null,
      "source": [
        "#selecting the samples that match the condition of the state=[1,1,1].\r\n",
        "mask_arr = np.all(samples == np.array([1,1,1]), axis=1)\r\n",
        "#computing the probability of the event.\r\n",
        "Pm = len(samples[mask_arr])/len(samples)\r\n",
        "print(\"Probability P_M(3): {:.4f}\".format(Pm))\r\n",
        "print(\"Theoric probability P_M(3): 0.464\")\r\n",
        "#error\r\n",
        "E_m = abs(Pm - 0.464)\r\n",
        "print(\"Absolute error in P_M(3): {:.4f}\".format(E_m))\r\n",
        "print(\"Percentage error of PM(3): {:.4f}\".format(E_m*100/0.464))"
      ],
      "outputs": [
        {
          "output_type": "stream",
          "name": "stdout",
          "text": [
            "Probability P_M(3): 0.4674\n",
            "Theoric probability P_M(3): 0.464\n",
            "Absolute error in P_M(3): 0.0034\n",
            "Percentage error of PM(3): 0.7389\n"
          ]
        }
      ],
      "metadata": {
        "colab": {
          "base_uri": "https://localhost:8080/"
        },
        "id": "yQsRObOGnSNM",
        "outputId": "3c032432-5a66-45ca-d878-8dbbba460c70"
      }
    },
    {
      "cell_type": "markdown",
      "source": [
        "## ***Subsystem of 3 spins***"
      ],
      "metadata": {
        "id": "ce1dVMsXp189"
      }
    },
    {
      "cell_type": "code",
      "execution_count": null,
      "source": [
        "#computing N=10000 samples for the 1D Ising model with L=200, J=1, h=0.2 and T=2\r\n",
        "# with t_equilibration = 30000, t_correlation = 5000\r\n",
        "samples_2 = metropolis_ising(200, 0.5, 1, 0.2, 10000, 30000, 5000)\r\n",
        "\r\n",
        "#Selecting the subsystem of three contiguous spins, in positions 0, 1 and 2\r\n",
        "states_2 = copy(samples_2[:,0:3])"
      ],
      "outputs": [],
      "metadata": {
        "id": "ahS21CfiJ5Qp"
      }
    },
    {
      "cell_type": "code",
      "execution_count": null,
      "source": [
        "mask_2 = states_2[:, 1] == 1\r\n",
        "P2_1_sub = len(states_2[mask_2 , :])/len(states_2)\r\n",
        "print(\"Probability P2(1) for the subsystem: {:.3f}\".format(P2_1_sub))\r\n",
        "#error\r\n",
        "E_a_2 = abs(P2_1_sub - 0.61)\r\n",
        "print(\"Absolute error: {:.4f}\".format(E_a_2))\r\n",
        "print(\"Percentage error: {:.4f}\".format(E_a_2*100/0.61))\r\n",
        "\r\n",
        "print(\"\\n\")\r\n",
        "#probability for the second spin equal to -1.\r\n",
        "print(\"Probability P2(-1) for the subsystem: {:.3f}\".format(1-P2_1_sub))\r\n",
        "print(\"Theoretical probability P2(-1): 0.39\")"
      ],
      "outputs": [
        {
          "output_type": "stream",
          "name": "stdout",
          "text": [
            "Probability P2(1) for the subsystem: 0.631\n",
            "Absolute error: 0.0208\n",
            "Percentage error: 3.4098\n",
            "\n",
            "\n",
            "Probability P2(-1) for the subsystem: 0.369\n",
            "Theoretical probability P2(-1): 0.39\n"
          ]
        }
      ],
      "metadata": {
        "colab": {
          "base_uri": "https://localhost:8080/"
        },
        "id": "hMuKPQbqKyo6",
        "outputId": "577e3880-ae8a-40eb-b1b2-c99812fb3c7a"
      }
    },
    {
      "cell_type": "code",
      "execution_count": null,
      "source": [
        "mask_arr_2 = np.all(states_2 == np.array([1,1,1]), axis=1)\r\n",
        "Pm_2 = len(states_2[mask_arr_2])/len(samples_2)\r\n",
        "print(\"Probability P_M(3): {:.3f}\".format(Pm_2))\r\n",
        "#error\r\n",
        "E_m_2 = abs(Pm_2 - 0.464)\r\n",
        "print(\"Absolute error in P_M(3): {:.4f}\".format(E_m_2))\r\n",
        "print(\"Percentage error of P_M(3): {:.4f}\".format(E_m_2*100/0.464))"
      ],
      "outputs": [
        {
          "output_type": "stream",
          "name": "stdout",
          "text": [
            "Probability P_M(3): 0.404\n",
            "Absolute error in P_M(3): 0.0599\n",
            "Percentage error of P_M(3): 12.9095\n"
          ]
        }
      ],
      "metadata": {
        "colab": {
          "base_uri": "https://localhost:8080/"
        },
        "id": "Xqhz2ganR1dt",
        "outputId": "94dfb1a6-af97-47af-cfa4-8377925d7f67"
      }
    }
  ]
}